{
  "nbformat": 4,
  "nbformat_minor": 0,
  "metadata": {
    "colab": {
      "provenance": []
    },
    "kernelspec": {
      "name": "python3",
      "display_name": "Python 3"
    },
    "language_info": {
      "name": "python"
    }
  },
  "cells": [
    {
      "cell_type": "code",
      "execution_count": null,
      "metadata": {
        "colab": {
          "base_uri": "https://localhost:8080/"
        },
        "id": "b-E-GCV_-ZkJ",
        "outputId": "d5677cda-1ee3-4c11-c397-3225b7190e81"
      },
      "outputs": [
        {
          "output_type": "stream",
          "name": "stdout",
          "text": [
            "Mounted at /content/drive\n"
          ]
        }
      ],
      "source": [
        "from google.colab import drive\n",
        "drive.mount('/content/drive')"
      ]
    },
    {
      "cell_type": "code",
      "source": [
        "import csv"
      ],
      "metadata": {
        "id": "6y21oFSzC78K"
      },
      "execution_count": null,
      "outputs": []
    },
    {
      "cell_type": "code",
      "source": [
        "import numpy as np\n",
        "import pandas as pd"
      ],
      "metadata": {
        "id": "ZN8uzZSgDEc7"
      },
      "execution_count": null,
      "outputs": []
    },
    {
      "cell_type": "code",
      "source": [
        "df = pd.read_csv(\"/content/drive/MyDrive/Google Colab/gsoc/datasets/false_positive_detection_dataset.csv\")"
      ],
      "metadata": {
        "id": "O-JAxv6XDHjw"
      },
      "execution_count": null,
      "outputs": []
    },
    {
      "cell_type": "code",
      "source": [
        "data = df['copyright']"
      ],
      "metadata": {
        "id": "0MudCJBmDgik"
      },
      "execution_count": null,
      "outputs": []
    },
    {
      "cell_type": "code",
      "source": [
        "#data.head(10)"
      ],
      "metadata": {
        "id": "f3NIAry3DhZn"
      },
      "execution_count": null,
      "outputs": []
    },
    {
      "cell_type": "code",
      "source": [
        "pip install safaa"
      ],
      "metadata": {
        "id": "mvVksuU1v-Xi",
        "collapsed": true
      },
      "execution_count": null,
      "outputs": []
    },
    {
      "cell_type": "code",
      "source": [
        "from safaa.Safaa import *\n",
        "agent = SafaaAgent()"
      ],
      "metadata": {
        "id": "45s8zdhkv-kP",
        "collapsed": true
      },
      "execution_count": null,
      "outputs": []
    },
    {
      "cell_type": "code",
      "source": [
        "preprocessed_data = agent.preprocess_data(data)"
      ],
      "metadata": {
        "id": "sNaMUTgTv-sP"
      },
      "execution_count": null,
      "outputs": []
    },
    {
      "cell_type": "code",
      "source": [
        "#preprocessed_data"
      ],
      "metadata": {
        "id": "0RCURHEpaQmR",
        "collapsed": true
      },
      "execution_count": null,
      "outputs": []
    },
    {
      "cell_type": "code",
      "source": [
        "# #extracting entities\n",
        "# entities = []\n",
        "# for text in preprocessed_data:\n",
        "#     doc = nlp(text)\n",
        "#     entities.extend([ent.label_ for ent in doc.ents])\n",
        "\n",
        "# entity_recognizer = agent.entity_recognizer\n",
        "# entity_labels = entity_recognizer.get_pipe('ner').labels\n",
        "# entity_labels"
      ],
      "metadata": {
        "id": "p7u2_-k6ClA5"
      },
      "execution_count": null,
      "outputs": []
    },
    {
      "cell_type": "code",
      "source": [],
      "metadata": {
        "id": "QpA3EZeVClTU"
      },
      "execution_count": null,
      "outputs": []
    },
    {
      "cell_type": "code",
      "source": [
        "from collections import Counter\n",
        "\n",
        "tokens = ' '.join(data).split()\n",
        "token_counts = Counter(tokens)\n",
        "\n",
        "rare_terms = {term for term, count in token_counts.items() if count == 1}\n",
        "\n",
        "# Texts that contain these rare terms\n",
        "frequency_outliers = [notice for notice in data if any(term in notice for term in rare_terms)]\n",
        "\n",
        "print(\"\\nFrequency-based outliers:\")\n",
        "for outlier in frequency_outliers:\n",
        "    print(outlier)"
      ],
      "metadata": {
        "id": "SjQuN5aoClWv"
      },
      "execution_count": null,
      "outputs": []
    },
    {
      "cell_type": "code",
      "source": [
        "len(frequency_outliers)"
      ],
      "metadata": {
        "colab": {
          "base_uri": "https://localhost:8080/"
        },
        "id": "VTcNwmTtClaV",
        "outputId": "b858ff40-9eeb-428a-ed81-d038cc6b583c",
        "collapsed": true
      },
      "execution_count": null,
      "outputs": [
        {
          "output_type": "execute_result",
          "data": {
            "text/plain": [
              "21763"
            ]
          },
          "metadata": {},
          "execution_count": 28
        }
      ]
    },
    {
      "cell_type": "code",
      "source": [
        "len(data)"
      ],
      "metadata": {
        "colab": {
          "base_uri": "https://localhost:8080/"
        },
        "id": "_eS2KTdNL4Ce",
        "outputId": "ae741c59-60ee-43da-a71a-c88b4814a9c0",
        "collapsed": true
      },
      "execution_count": null,
      "outputs": [
        {
          "output_type": "execute_result",
          "data": {
            "text/plain": [
              "21770"
            ]
          },
          "metadata": {},
          "execution_count": 29
        }
      ]
    },
    {
      "cell_type": "code",
      "source": [
        "token_counts"
      ],
      "metadata": {
        "id": "2y2_JnQCL-dy"
      },
      "execution_count": null,
      "outputs": []
    },
    {
      "cell_type": "code",
      "source": [
        "predictions = agent.predict(data)"
      ],
      "metadata": {
        "id": "Y-3TRfOJv-zR"
      },
      "execution_count": null,
      "outputs": []
    },
    {
      "cell_type": "code",
      "source": [
        "def test_corner_cases():\n",
        "    corner_cases = [\n",
        "        \"© 2024 Example Company. All rights reserved.\",  # Standard case\n",
        "        \"COPYRIGHT © 2024 EXAMPLE COMPANY. ALL RIGHTS RESERVED.\",  # Upper case\n",
        "        \"2024 © Example Co. All rights reserved. Visit us at www.example.com\",  # URL embedded\n",
        "        \"Email us at contact@example.com or support@example.com © 2024\",  # Multiple emails\n",
        "        \"Dates in various formats: 2024-06-26, June 26, 2024, 26/06/2024\",  # Date formats\n",
        "        \"Special characters: @#$%^&*()!~`\",  # Special characters\n",
        "        \"Nested (patterns (within) patterns)\",  # Nested patterns\n",
        "        \"Example 2024 (© Example) Company\",  # Mixed entities\n",
        "        \"copyright/agent_tests/Unit/test_copyright src/...\",  # File paths\n",
        "        \"Mixed languages: こんにちは, hello, bonjour © 2024\",  # Mixed languages\n",
        "    ]\n",
        "\n",
        "    processed_data = agent.preprocess_data(corner_cases)\n",
        "\n",
        "    for i, original in enumerate(corner_cases):\n",
        "        print(f\"Original: {original}\")\n",
        "        print(f\"Processed: {processed_data[i]}\")\n",
        "        print(\"-----\")"
      ],
      "metadata": {
        "id": "mhI2H-jlv-6T"
      },
      "execution_count": null,
      "outputs": []
    },
    {
      "cell_type": "code",
      "source": [
        "# Run the test for corner cases\n",
        "test_corner_cases()"
      ],
      "metadata": {
        "colab": {
          "base_uri": "https://localhost:8080/"
        },
        "id": "bmjLez00k6O8",
        "outputId": "58acbb27-6469-4aff-8a4a-769ca08b0aaa"
      },
      "execution_count": null,
      "outputs": [
        {
          "output_type": "stream",
          "name": "stdout",
          "text": [
            "Original: © 2024 Example Company. All rights reserved.\n",
            "Processed: copyrightsymbol   date   entity   all rights reserved\n",
            "-----\n",
            "Original: COPYRIGHT © 2024 EXAMPLE COMPANY. ALL RIGHTS RESERVED.\n",
            "Processed: copyright  copyrightsymbol   date   entity   all rights reserved\n",
            "-----\n",
            "Original: 2024 © Example Co. All rights reserved. Visit us at www.example.com\n",
            "Processed: date   copyrightsymbol   entity  all rights reserved  visit us at www example com\n",
            "-----\n",
            "Original: Email us at contact@example.com or support@example.com © 2024\n",
            "Processed: email us at  email  or  email   copyrightsymbol   date\n",
            "-----\n",
            "Original: Dates in various formats: 2024-06-26, June 26, 2024, 26/06/2024\n",
            "Processed: dates in various formats   date       june     date        date\n",
            "-----\n",
            "Original: Special characters: @#$%^&*()!~`\n",
            "Processed: special characters\n",
            "-----\n",
            "Original: Nested (patterns (within) patterns)\n",
            "Processed: nested  patterns  within  patterns\n",
            "-----\n",
            "Original: Example 2024 (© Example) Company\n",
            "Processed: example  date    copyrightsymbol  example  company\n",
            "-----\n",
            "Original: copyright/agent_tests/Unit/test_copyright src/...\n",
            "Processed: copyright agent tests unit test copyright src\n",
            "-----\n",
            "Original: Mixed languages: こんにちは, hello, bonjour © 2024\n",
            "Processed: mixed languages         hello  bonjour  copyrightsymbol   date\n",
            "-----\n"
          ]
        }
      ]
    },
    {
      "cell_type": "code",
      "source": [
        "case_11 = [\"2024 © Example Co. www.example.com All rights reserved. Visit us at \",  # URL embedded\n",
        "]"
      ],
      "metadata": {
        "id": "raDKUvfhk61g"
      },
      "execution_count": null,
      "outputs": []
    },
    {
      "cell_type": "code",
      "source": [
        "agent.preprocess_data(case_11)"
      ],
      "metadata": {
        "colab": {
          "base_uri": "https://localhost:8080/"
        },
        "id": "x70EBPw9vJxO",
        "outputId": "dd3fe1e7-bcd4-4d9e-e70d-9e21751dcdd3"
      },
      "execution_count": null,
      "outputs": [
        {
          "output_type": "execute_result",
          "data": {
            "text/plain": [
              "['date   copyrightsymbol   entity  www example com all rights reserved  visit us at']"
            ]
          },
          "metadata": {},
          "execution_count": 17
        }
      ]
    },
    {
      "cell_type": "code",
      "source": [
        "###############################################"
      ],
      "metadata": {
        "id": "G6nnZxwev9CZ"
      },
      "execution_count": null,
      "outputs": []
    },
    {
      "cell_type": "code",
      "source": [
        "from joblib import load"
      ],
      "metadata": {
        "id": "kPRpwyt0GPUI"
      },
      "execution_count": null,
      "outputs": []
    },
    {
      "cell_type": "code",
      "source": [
        "load_model = load(\"/content/drive/MyDrive/Google Colab/gsoc/datasets/false_positive_detection_model.pkl\")"
      ],
      "metadata": {
        "id": "V1N_6xykGP2f"
      },
      "execution_count": null,
      "outputs": []
    },
    {
      "cell_type": "code",
      "source": [
        "load_model"
      ],
      "metadata": {
        "id": "yAeWcp65GQG6"
      },
      "execution_count": null,
      "outputs": []
    },
    {
      "cell_type": "code",
      "source": [
        "print(dir(load_model))"
      ],
      "metadata": {
        "colab": {
          "base_uri": "https://localhost:8080/"
        },
        "id": "N5fXhMcRGQU9",
        "outputId": "e0db0ba6-f122-41de-a76a-a0fdfd5d5bfb"
      },
      "execution_count": null,
      "outputs": [
        {
          "output_type": "stream",
          "name": "stdout",
          "text": [
            "['__class__', '__delattr__', '__dict__', '__dir__', '__doc__', '__eq__', '__format__', '__ge__', '__getattribute__', '__getstate__', '__gt__', '__hash__', '__init__', '__init_subclass__', '__le__', '__lt__', '__module__', '__ne__', '__new__', '__reduce__', '__reduce_ex__', '__repr__', '__setattr__', '__setstate__', '__sizeof__', '__str__', '__subclasshook__', '__weakref__', '_check_feature_names', '_check_n_features', '_estimator_type', '_get_param_names', '_get_tags', '_more_tags', '_parameter_constraints', '_repr_html_', '_repr_html_inner', '_repr_mimebundle_', '_required_parameters', '_validate_data', '_validate_params', 'classes_', 'decision_function', 'estimator', 'estimators_', 'fit', 'get_params', 'label_binarizer_', 'multilabel_', 'n_classes_', 'n_features_in_', 'n_jobs', 'partial_fit', 'predict', 'predict_proba', 'score', 'set_params', 'verbose']\n"
          ]
        }
      ]
    },
    {
      "cell_type": "code",
      "source": [],
      "metadata": {
        "id": "dUyLt5zQJu8T"
      },
      "execution_count": null,
      "outputs": []
    }
  ]
}